{
 "cells": [
  {
   "cell_type": "code",
   "execution_count": 2,
   "metadata": {},
   "outputs": [
    {
     "name": "stdout",
     "output_type": "stream",
     "text": [
      "pygame 2.4.0 (SDL 2.26.4, Python 3.11.3)\n",
      "Hello from the pygame community. https://www.pygame.org/contribute.html\n"
     ]
    }
   ],
   "source": [
    "import pygame\n",
    "from pygame.locals import *\n",
    "from sys import exit"
   ]
  },
  {
   "cell_type": "code",
   "execution_count": 3,
   "metadata": {},
   "outputs": [],
   "source": [
    "pygame.init()\n",
    "width = 640\n",
    "heigth = 480\n",
    "x = (width / 2) - 40\n",
    "y = (heigth / 2) - 40\n"
   ]
  },
  {
   "cell_type": "code",
   "execution_count": 4,
   "metadata": {},
   "outputs": [
    {
     "ename": "SystemExit",
     "evalue": "",
     "output_type": "error",
     "traceback": [
      "An exception has occurred, use %tb to see the full traceback.\n",
      "\u001b[1;31mSystemExit\u001b[0m\n"
     ]
    },
    {
     "name": "stderr",
     "output_type": "stream",
     "text": [
      "c:\\Python311\\Lib\\site-packages\\IPython\\core\\interactiveshell.py:3513: UserWarning: To exit: use 'exit', 'quit', or Ctrl-D.\n",
      "  warn(\"To exit: use 'exit', 'quit', or Ctrl-D.\", stacklevel=1)\n"
     ]
    }
   ],
   "source": [
    "tela = pygame.display.set_mode((width, heigth))\n",
    "pygame.display.set_caption('Jogo')\n",
    "relogio = pygame.time.Clock()\n",
    "while True:\n",
    "    relogio.tick(60)\n",
    "    tela.fill((0, 0, 0))\n",
    "    for event in pygame.event.get():\n",
    "        # Clicou no botão fechar\n",
    "        if event.type == QUIT:\n",
    "            pygame.quit()\n",
    "            exit()\n",
    "        '''\n",
    "        # Verificação de tecla pressionada\n",
    "        if event.type == KEYDOWN:\n",
    "            if event.key == K_a:\n",
    "                x -= 1\n",
    "            if event.key == K_d:\n",
    "                x += 1\n",
    "            if event.key == K_w:\n",
    "                y -= 1\n",
    "            if event.key == K_s:\n",
    "                y += 1\n",
    "        '''\n",
    "    # Verificação da tecla mantida pressionada\n",
    "    if pygame.key.get_pressed()[K_a]:\n",
    "        x -=1\n",
    "    if pygame.key.get_pressed()[K_d]:\n",
    "        x +=1\n",
    "    if pygame.key.get_pressed()[K_w]:\n",
    "        y -=1\n",
    "    if pygame.key.get_pressed()[K_s]:\n",
    "        y +=1\n",
    "\n",
    "    # pygame.draw.line(tela, (255, 255, 0), (390, 0),(390, 600), 5)\n",
    "    # pygame.draw.circle(tela, (0, 0, 120), (300, 260), 40)\n",
    "    pygame.draw.rect(tela, (255, 0, 0), (x, y, 40, 40))\n",
    "\n",
    "    pygame.display.update()\n"
   ]
  }
 ],
 "metadata": {
  "kernelspec": {
   "display_name": "Python 3",
   "language": "python",
   "name": "python3"
  },
  "language_info": {
   "codemirror_mode": {
    "name": "ipython",
    "version": 3
   },
   "file_extension": ".py",
   "mimetype": "text/x-python",
   "name": "python",
   "nbconvert_exporter": "python",
   "pygments_lexer": "ipython3",
   "version": "3.11.3"
  },
  "orig_nbformat": 4
 },
 "nbformat": 4,
 "nbformat_minor": 2
}
